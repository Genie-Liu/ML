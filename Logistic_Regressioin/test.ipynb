{
 "cells": [
  {
   "cell_type": "code",
   "execution_count": 172,
   "metadata": {},
   "outputs": [
    {
     "data": {
      "text/plain": [
       "<module 'LG' from 'D:\\\\Documents\\\\ML\\\\ML\\\\Logistic_Regressioin\\\\LG.py'>"
      ]
     },
     "execution_count": 172,
     "metadata": {},
     "output_type": "execute_result"
    }
   ],
   "source": [
    "from importlib import reload\n",
    "import LG\n",
    "import numpy as np\n",
    "reload(LG)\n"
   ]
  },
  {
   "cell_type": "code",
   "execution_count": 173,
   "metadata": {
    "collapsed": true
   },
   "outputs": [],
   "source": [
    "# 导入训练数据\n",
    "x_train, y_train = LG.loadData()\n",
    "\n",
    "# 使用梯度下降算法得到权重参数\n",
    "weights = LG.gradDescentOptimize(x_train, y_train)\n",
    "\n",
    "# 导入测试数据\n",
    "x_test, y_test = LG.loadData(file_name=\"iris.data.test\")\n",
    "\n",
    "# 使用之前训练出来的权重对测试数据进行测试，得到正确率\n",
    "accurate = LG.test(x_test, y_test, weights)\n",
    "y_pre = LG.predict(x_test, weights)"
   ]
  },
  {
   "cell_type": "code",
   "execution_count": 174,
   "metadata": {},
   "outputs": [
    {
     "name": "stdout",
     "output_type": "stream",
     "text": [
      "1.0\n"
     ]
    }
   ],
   "source": [
    "# 由于数据较少，且两种鸢尾花之间的差别较大，所以预测正确率较高\n",
    "print(accurate)"
   ]
  }
 ],
 "metadata": {
  "kernelspec": {
   "display_name": "Python 3",
   "language": "python",
   "name": "python3"
  },
  "language_info": {
   "codemirror_mode": {
    "name": "ipython",
    "version": 3
   },
   "file_extension": ".py",
   "mimetype": "text/x-python",
   "name": "python",
   "nbconvert_exporter": "python",
   "pygments_lexer": "ipython3",
   "version": "3.6.1"
  }
 },
 "nbformat": 4,
 "nbformat_minor": 2
}
