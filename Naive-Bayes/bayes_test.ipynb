{
 "cells": [
  {
   "cell_type": "code",
   "execution_count": 72,
   "metadata": {
    "collapsed": true
   },
   "outputs": [],
   "source": [
    "import bayes\n",
    "import numpy as np\n",
    "from importlib import reload"
   ]
  },
  {
   "cell_type": "code",
   "execution_count": 85,
   "metadata": {},
   "outputs": [
    {
     "data": {
      "text/plain": [
       "<module 'bayes' from 'D:\\\\Documents\\\\ML\\\\Naive-Bayes\\\\bayes.py'>"
      ]
     },
     "execution_count": 85,
     "metadata": {},
     "output_type": "execute_result"
    }
   ],
   "source": [
    "reload(bayes)"
   ]
  },
  {
   "cell_type": "code",
   "execution_count": 68,
   "metadata": {},
   "outputs": [],
   "source": [
    "dataSet, classLabel = bayes.loadDataSet()"
   ]
  },
  {
   "cell_type": "code",
   "execution_count": 74,
   "metadata": {},
   "outputs": [
    {
     "data": {
      "text/plain": [
       "array([-2.35137526, -2.35137526, -2.35137526, -3.04452244, -2.35137526,\n",
       "       -1.94591015, -3.04452244, -3.04452244, -3.04452244, -2.35137526,\n",
       "       -3.04452244, -2.35137526, -2.35137526, -3.04452244, -3.04452244,\n",
       "       -2.35137526, -3.04452244, -1.65822808, -3.04452244, -3.04452244,\n",
       "       -1.94591015, -3.04452244, -2.35137526, -3.04452244, -3.04452244,\n",
       "       -2.35137526, -3.04452244, -3.04452244, -3.04452244, -2.35137526,\n",
       "       -3.04452244, -2.35137526])"
      ]
     },
     "execution_count": 74,
     "metadata": {},
     "output_type": "execute_result"
    }
   ],
   "source": [
    "vocabList = bayes.createVocabList(dataSet)\n",
    "trainMat = []\n",
    "for doc in dataSet:\n",
    "    trainMat.append(bayes.createVocabVec(vocabList, doc))\n",
    "\n",
    "pSam, p0, p1 = bayes.trainNB(trainMat, classLabel)\n",
    "p1\n",
    "#len(vocabList)"
   ]
  },
  {
   "cell_type": "code",
   "execution_count": 75,
   "metadata": {
    "collapsed": true
   },
   "outputs": [],
   "source": [
    "wordVect = bayes.createVocabVec(vocabList, dataSet[0])"
   ]
  },
  {
   "cell_type": "code",
   "execution_count": 86,
   "metadata": {},
   "outputs": [
    {
     "name": "stdout",
     "output_type": "stream",
     "text": [
      "This doc is classified as: 0\n",
      "This doc is classified as: 1\n"
     ]
    }
   ],
   "source": [
    "bayes.testNB()"
   ]
  },
  {
   "cell_type": "code",
   "execution_count": 87,
   "metadata": {},
   "outputs": [
    {
     "data": {
      "text/plain": [
       "{'dalmation', 'love', 'my'}"
      ]
     },
     "execution_count": 87,
     "metadata": {},
     "output_type": "execute_result"
    }
   ],
   "source": []
  },
  {
   "cell_type": "code",
   "execution_count": null,
   "metadata": {
    "collapsed": true
   },
   "outputs": [],
   "source": []
  }
 ],
 "metadata": {
  "kernelspec": {
   "display_name": "Python 3",
   "language": "python",
   "name": "python3"
  },
  "language_info": {
   "codemirror_mode": {
    "name": "ipython",
    "version": 3
   },
   "file_extension": ".py",
   "mimetype": "text/x-python",
   "name": "python",
   "nbconvert_exporter": "python",
   "pygments_lexer": "ipython3",
   "version": "3.6.1"
  }
 },
 "nbformat": 4,
 "nbformat_minor": 2
}
